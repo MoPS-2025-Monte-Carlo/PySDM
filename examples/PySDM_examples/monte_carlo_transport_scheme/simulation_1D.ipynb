{
 "cells": [
  {
   "cell_type": "markdown",
   "id": "297be04c",
   "metadata": {},
   "source": [
    "[![preview notebook](https://img.shields.io/static/v1?label=render%20on&logo=github&color=87ce3e&message=GitHub)](https://github.com/open-atmos/PySDM/blob/main/examples/PySDM_examples/monte_carlo_transport_scheme/simulation_1D.ipynb)\n",
    "[![launch on mybinder.org](https://mybinder.org/badge_logo.svg)](https://mybinder.org/v2/gh/open-atmos/PySDM.git/main?urlpath=lab/tree/examples/PySDM_examples/monte_carlo_transport_scheme/simulation_1D.ipynb)\n",
    "[![launch on Colab](https://colab.research.google.com/assets/colab-badge.svg)](https://colab.research.google.com/github/open-atmos/PySDM/blob/main/examples/PySDM_examples/monte_carlo_transport_scheme/simulation_1D.ipynb)"
   ]
  },
  {
   "cell_type": "markdown",
   "id": "d7f2ee18",
   "metadata": {},
   "source": [
    "### Simulation of a Monte Carlo Transport Scheme"
   ]
  },
  {
   "cell_type": "code",
   "execution_count": null,
   "id": "f22c7326",
   "metadata": {},
   "outputs": [],
   "source": [
    "import sys\n",
    "if 'google.colab' in sys.modules:\n",
    "    !pip --quiet install open-atmos-jupyter-utils\n",
    "    from open_atmos_jupyter_utils import pip_install_on_colab\n",
    "    pip_install_on_colab('PySDM-examples')"
   ]
  },
  {
   "cell_type": "code",
   "execution_count": 1,
   "id": "19468bf8",
   "metadata": {},
   "outputs": [
    {
     "name": "stdout",
     "output_type": "stream",
     "text": [
      "Sum of 1000 random numbers: 514.0227402249625\n"
     ]
    }
   ],
   "source": [
    "import numpy as np\n",
    "\n",
    "\n",
    "random_sum = np.random.uniform(0, 1, 1000)\n",
    "print(f\"Sum of 1000 random numbers: {np.sum(random_sum)}\")"
   ]
  }
 ],
 "metadata": {
  "kernelspec": {
   "display_name": ".venv",
   "language": "python",
   "name": "python3"
  },
  "language_info": {
   "codemirror_mode": {
    "name": "ipython",
    "version": 3
   },
   "file_extension": ".py",
   "mimetype": "text/x-python",
   "name": "python",
   "nbconvert_exporter": "python",
   "pygments_lexer": "ipython3",
   "version": "3.12.1"
  }
 },
 "nbformat": 4,
 "nbformat_minor": 5
}
